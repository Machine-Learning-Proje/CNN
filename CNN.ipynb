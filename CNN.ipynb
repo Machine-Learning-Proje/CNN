{
 "cells": [
  {
   "cell_type": "code",
   "execution_count": 241,
   "metadata": {},
   "outputs": [],
   "source": [
    "import numpy as np\n",
    "import matplotlib.pyplot as plt\n",
    "import os\n",
    "import cv2\n",
    "import random\n",
    "import tensorflow as tf\n",
    "from tensorflow.keras.datasets import cifar10\n",
    "from tensorflow.keras.preprocessing.image import ImageDataGenerator\n",
    "from tensorflow.keras.models import Sequential\n",
    "from tensorflow.keras.layers import Dense, Dropout, Activation, Flatten\n",
    "from tensorflow.keras.layers import Conv2D, MaxPooling2D"
   ]
  },
  {
   "cell_type": "code",
   "execution_count": 242,
   "metadata": {},
   "outputs": [],
   "source": [
    "DATADIR=r\"C:\\Users\\USER\\Desktop\\our project\\old\\Alzheimer_s Dataset\\train\"\n",
    "CATEGORIES=[\"MildDemented\",\"ModerateDemented\",\"NonDemented\",\"VeryMildDemented\"]"
   ]
  },
  {
   "cell_type": "code",
   "execution_count": 243,
   "metadata": {},
   "outputs": [],
   "source": [
    "training_data=[]\n",
    "def create_training_data():\n",
    "    for category in CATEGORIES:  \n",
    "        path = os.path.join(DATADIR,category)  # create path \n",
    "        class_num = CATEGORIES.index(category)  # get the classification  (0 or a 1 or 2 or 3). 0=MildDemented 1=ModerateDemented 2=NonDemented 3=VeryMildDemented\n",
    "        for img1 in os.listdir(path):  # iterate over each image \n",
    "      \n",
    "                img = cv2.imread(os.path.join(path,img1))  # convert to array\n",
    "    \n",
    "                img = cv2.cvtColor(img,cv2.COLOR_BGR2RGB)\n",
    "                #plt.imshow(img)\n",
    "                # cv2.imshow(\"img1\", img1)\n",
    "                # cv2.waitKey(0)\n",
    "                # cv2.destroyAllWindows()\n",
    "                #print (img.shape)\n",
    "                th = cv2.cvtColor(img, cv2.COLOR_RGB2GRAY)\n",
    "                ret,th = cv2.threshold(th, 110, 255, cv2.THRESH_BINARY)\n",
    "                kernel = np.ones_like((5,5),np.uint8)\n",
    "                erosion = cv2.erode(th,kernel,iterations = 1)\n",
    "                # dilation = cv2.dilate(erosion,kernel,iterations = 1)\n",
    "                #plt.imshow(erosion, 'gray')\n",
    "    \n",
    "                cont,_= cv2.findContours(erosion, cv2.RETR_EXTERNAL, cv2.CHAIN_APPROX_NONE)\n",
    "                # find the biggest countour (c) by the area\n",
    "                c = max(cont, key = cv2.contourArea)\n",
    "                x,y,w,h = cv2.boundingRect(c)\n",
    "    \n",
    "                # draw the biggest contour (c) in green\n",
    "                cv2.rectangle(img,(x,y),(x+w,y+h),(0,0,0),0) \n",
    "                #plt.imshow(img)\n",
    "                cropped_imge= img[y:y+h, x:x+w]\n",
    "                #plt.imshow(cropped_imge, 'gray')\n",
    "                IMG_SIZE_y = 100\n",
    "                IMG_SIZE_x = 85\n",
    "                resiz = cv2.resize(cropped_imge,(IMG_SIZE_x,IMG_SIZE_y))\n",
    "                training_data.append([resiz, class_num])\n",
    "        \n",
    "        #plt.imshow(resiz,'gray')\n",
    "        #print (resiz.shape)\n",
    "                \n",
    "        #plt.show()  # display!\n",
    "       # break  # we just want one for now so break\n",
    "    #break\n",
    "\n",
    "        \n",
    "create_training_data()\n",
    "  "
   ]
  },
  {
   "cell_type": "code",
   "execution_count": 244,
   "metadata": {},
   "outputs": [
    {
     "name": "stdout",
     "output_type": "stream",
     "text": [
      "5133\n"
     ]
    }
   ],
   "source": [
    "\n",
    "print(len(training_data))"
   ]
  },
  {
   "cell_type": "code",
   "execution_count": 245,
   "metadata": {},
   "outputs": [],
   "source": [
    "random.shuffle(training_data)"
   ]
  },
  {
   "cell_type": "code",
   "execution_count": 246,
   "metadata": {},
   "outputs": [
    {
     "name": "stdout",
     "output_type": "stream",
     "text": [
      "3\n"
     ]
    }
   ],
   "source": [
    "for sample in training_data[:1]:\n",
    "    print(sample[1]) #sample[0] would be the image"
   ]
  },
  {
   "cell_type": "code",
   "execution_count": 247,
   "metadata": {},
   "outputs": [
    {
     "name": "stdout",
     "output_type": "stream",
     "text": [
      "(5133, 100, 85, 3)\n",
      "(5133,)\n"
     ]
    }
   ],
   "source": [
    "x = []\n",
    "y = []\n",
    "for features,label in training_data:\n",
    "    x.append(features)\n",
    "    y.append(label)\n",
    "x = np.array(x)\n",
    "y = np.array(y)\n",
    "# x = tf.stack(x)\n",
    "# y = tf.stack(y)\n",
    "print(x.shape)\n",
    "print(y.shape)\n"
   ]
  },
  {
   "cell_type": "code",
   "execution_count": 248,
   "metadata": {},
   "outputs": [],
   "source": [
    "def build_model():\n",
    "    \n",
    "    '''Sequential Model creation'''\n",
    "    model = Sequential()\n",
    "    model.add(Conv2D(32,(1,1),padding='same',strides=2,input_shape = (100, 85, 3),activation='relu'))\n",
    "    \n",
    "    model.add(Conv2D(64,(1,1),padding='same',strides=2,activation='relu'))\n",
    "    model.add(MaxPooling2D(pool_size=(3,3),strides=1,padding = 'same'))\n",
    "\n",
    "    model.add(Conv2D(128,(1,1),padding='valid',strides=2,activation='relu'))\n",
    "    model.add(MaxPooling2D(pool_size=(3,3),strides=1,padding = 'same'))\n",
    "    \n",
    "    model.add(Conv2D(256,(1,1),padding='valid',strides=2,activation='relu'))\n",
    "    model.add(MaxPooling2D(pool_size=(3,3),strides=1,padding = 'same'))\n",
    "    \n",
    "    model.add(Conv2D(512,(1,1),padding='valid',strides=2,activation='relu'))\n",
    "    model.add(MaxPooling2D(pool_size=(3,3),strides=1,padding = 'valid'))\n",
    "    \n",
    "    model.add(Conv2D(1024,(1,1),padding='valid',strides=2,activation='relu'))\n",
    "    model.add(MaxPooling2D(pool_size=(3,3),strides=1,padding = 'same'))\n",
    "    \n",
    "    \n",
    "    model.add(Flatten())\n",
    "    model.add(Dense(100))\n",
    "    model.add(Dense(4))\n",
    "    model.add(Activation('softmax'))\n",
    "    \n",
    "    return model\n",
    "\n",
    "model = build_model()\n",
    "#model.summary()"
   ]
  },
  {
   "cell_type": "code",
   "execution_count": 249,
   "metadata": {},
   "outputs": [],
   "source": [
    "model.compile(loss='sparse_categorical_crossentropy',\n",
    "              optimizer='adam',\n",
    "              metrics=['accuracy'])\n"
   ]
  },
  {
   "cell_type": "code",
   "execution_count": 250,
   "metadata": {},
   "outputs": [
    {
     "name": "stdout",
     "output_type": "stream",
     "text": [
      "Epoch 1/10\n",
      "113/113 [==============================] - 14s 120ms/step - loss: 6.9507 - accuracy: 0.4175 - val_loss: 1.0480 - val_accuracy: 0.5097\n",
      "Epoch 2/10\n",
      "113/113 [==============================] - 15s 134ms/step - loss: 1.0591 - accuracy: 0.4728 - val_loss: 1.0381 - val_accuracy: 0.5097\n",
      "Epoch 3/10\n",
      "113/113 [==============================] - 15s 131ms/step - loss: 1.0513 - accuracy: 0.4997 - val_loss: 1.1055 - val_accuracy: 0.5097\n",
      "Epoch 4/10\n",
      "113/113 [==============================] - 15s 133ms/step - loss: 1.0800 - accuracy: 0.4766 - val_loss: 1.0501 - val_accuracy: 0.5097\n",
      "Epoch 5/10\n",
      "113/113 [==============================] - 15s 134ms/step - loss: 1.0727 - accuracy: 0.4890 - val_loss: 1.0358 - val_accuracy: 0.5097\n",
      "Epoch 6/10\n",
      "113/113 [==============================] - 15s 132ms/step - loss: 1.0438 - accuracy: 0.4976 - val_loss: 1.0394 - val_accuracy: 0.5097\n",
      "Epoch 7/10\n",
      "113/113 [==============================] - 15s 136ms/step - loss: 1.0584 - accuracy: 0.4943 - val_loss: 1.0361 - val_accuracy: 0.5097\n",
      "Epoch 8/10\n",
      "113/113 [==============================] - 15s 129ms/step - loss: 1.0495 - accuracy: 0.5002 - val_loss: 1.0401 - val_accuracy: 0.5097\n",
      "Epoch 9/10\n",
      "113/113 [==============================] - 15s 128ms/step - loss: 1.0636 - accuracy: 0.4907 - val_loss: 1.0384 - val_accuracy: 0.5097\n",
      "Epoch 10/10\n",
      "113/113 [==============================] - 15s 128ms/step - loss: 1.0442 - accuracy: 0.4974 - val_loss: 1.0345 - val_accuracy: 0.5097\n"
     ]
    },
    {
     "data": {
      "text/plain": [
       "<tensorflow.python.keras.callbacks.History at 0x1ed022b98e0>"
      ]
     },
     "execution_count": 250,
     "metadata": {},
     "output_type": "execute_result"
    }
   ],
   "source": [
    "model.fit(x,y,epochs = 10, verbose=1,validation_split=0.3)"
   ]
  },
  {
   "cell_type": "code",
   "execution_count": null,
   "metadata": {},
   "outputs": [],
   "source": []
  },
  {
   "cell_type": "code",
   "execution_count": null,
   "metadata": {},
   "outputs": [],
   "source": []
  }
 ],
 "metadata": {
  "kernelspec": {
   "display_name": "Python 3",
   "language": "python",
   "name": "python3"
  },
  "language_info": {
   "codemirror_mode": {
    "name": "ipython",
    "version": 3
   },
   "file_extension": ".py",
   "mimetype": "text/x-python",
   "name": "python",
   "nbconvert_exporter": "python",
   "pygments_lexer": "ipython3",
   "version": "3.8.5"
  }
 },
 "nbformat": 4,
 "nbformat_minor": 4
}
